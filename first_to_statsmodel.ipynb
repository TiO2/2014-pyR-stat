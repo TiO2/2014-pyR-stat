{
 "metadata": {
  "name": "",
  "signature": "sha256:0a93940a7bf7120f2a04586846aa4df989e8c0d097de27b7294b8248f475e53d"
 },
 "nbformat": 3,
 "nbformat_minor": 0,
 "worksheets": [
  {
   "cells": [
    {
     "cell_type": "code",
     "collapsed": false,
     "input": [
      "import numpy as np\n",
      "import statsmodels.api as sm\n",
      "from scipy import stats"
     ],
     "language": "python",
     "metadata": {},
     "outputs": [],
     "prompt_number": 1
    },
    {
     "cell_type": "code",
     "collapsed": false,
     "input": [],
     "language": "python",
     "metadata": {},
     "outputs": [
      {
       "output_type": "stream",
       "stream": "stdout",
       "text": [
        "\n",
        "This data is based on the example in Gill and describes the proportion of\n",
        "voters who voted Yes to grant the Scottish Parliament taxation powers.\n",
        "The data are divided into 32 council districts.  This example's explanatory\n",
        "variables include the amount of council tax collected in pounds sterling as\n",
        "of April 1997 per two adults before adjustments, the female percentage of\n",
        "total claims for unemployment benefits as of January, 1998, the standardized\n",
        "mortality rate (UK is 100), the percentage of labor force participation,\n",
        "regional GDP, the percentage of children aged 5 to 15, and an interaction term\n",
        "between female unemployment and the council tax.\n",
        "\n",
        "The original source files and variable information are included in\n",
        "/scotland/src/\n",
        "\n"
       ]
      }
     ],
     "prompt_number": 2
    },
    {
     "cell_type": "code",
     "collapsed": false,
     "input": [
      "data2 = sm.datasets.scotland.load()\n",
      "data2.exog = sm.add_constant(data2.exog, prepend=False)\n",
      "print(data2.exog[:5,:])\n",
      "print(data2.endog[:5])"
     ],
     "language": "python",
     "metadata": {},
     "outputs": [
      {
       "output_type": "stream",
       "stream": "stdout",
       "text": [
        "[[  7.12000000e+02   2.10000000e+01   1.05000000e+02   8.24000000e+01\n",
        "    1.35660000e+04   1.23000000e+01   1.49520000e+04   1.00000000e+00]\n",
        " [  6.43000000e+02   2.65000000e+01   9.70000000e+01   8.02000000e+01\n",
        "    1.35660000e+04   1.53000000e+01   1.70395000e+04   1.00000000e+00]\n",
        " [  6.79000000e+02   2.83000000e+01   1.13000000e+02   8.63000000e+01\n",
        "    9.61100000e+03   1.39000000e+01   1.92157000e+04   1.00000000e+00]\n",
        " [  8.01000000e+02   2.71000000e+01   1.09000000e+02   8.04000000e+01\n",
        "    9.48300000e+03   1.36000000e+01   2.17071000e+04   1.00000000e+00]\n",
        " [  7.53000000e+02   2.20000000e+01   1.15000000e+02   6.47000000e+01\n",
        "    9.26500000e+03   1.46000000e+01   1.65660000e+04   1.00000000e+00]]\n",
        "[ 60.3  52.3  53.4  57.   68.7]\n"
       ]
      }
     ],
     "prompt_number": 3
    },
    {
     "cell_type": "code",
     "collapsed": false,
     "input": [
      "glm_gamma = sm.GLM(data2.endog, data2.exog, family=sm.families.Gamma())\n",
      "glm_results = glm_gamma.fit()\n",
      "print(glm_results.summary())"
     ],
     "language": "python",
     "metadata": {},
     "outputs": [
      {
       "output_type": "stream",
       "stream": "stdout",
       "text": [
        "                 Generalized Linear Model Regression Results                  \n",
        "==============================================================================\n",
        "Dep. Variable:                      y   No. Observations:                   32\n",
        "Model:                            GLM   Df Residuals:                       24\n",
        "Model Family:                   Gamma   Df Model:                            7\n",
        "Link Function:          inverse_power   Scale:                0.00358428317349\n",
        "Method:                          IRLS   Log-Likelihood:                -83.017\n",
        "Date:                Fri, 16 May 2014   Deviance:                     0.087389\n",
        "Time:                        21:28:31   Pearson chi2:                   0.0860\n",
        "No. Iterations:                     5                                         \n",
        "==============================================================================\n",
        "                 coef    std err          t      P>|t|      [95.0% Conf. Int.]\n",
        "------------------------------------------------------------------------------\n",
        "x1          4.962e-05   1.62e-05      3.060      0.002      1.78e-05  8.14e-05\n",
        "x2             0.0020      0.001      3.824      0.000         0.001     0.003\n",
        "x3         -7.181e-05   2.71e-05     -2.648      0.008        -0.000 -1.87e-05\n",
        "x4             0.0001   4.06e-05      2.757      0.006      3.23e-05     0.000\n",
        "x5         -1.468e-07   1.24e-07     -1.187      0.235     -3.89e-07  9.56e-08\n",
        "x6            -0.0005      0.000     -2.159      0.031        -0.001 -4.78e-05\n",
        "x7         -2.427e-06   7.46e-07     -3.253      0.001     -3.89e-06 -9.65e-07\n",
        "const         -0.0178      0.011     -1.548      0.122        -0.040     0.005\n",
        "==============================================================================\n"
       ]
      }
     ],
     "prompt_number": 4
    },
    {
     "cell_type": "code",
     "collapsed": false,
     "input": [],
     "language": "python",
     "metadata": {},
     "outputs": []
    }
   ],
   "metadata": {}
  }
 ]
}