{
 "metadata": {
  "name": "",
  "signature": "sha256:f3f997dfd27634d98b7d717cd34170ff930e90225ceceeb3c99f6283ee51e72f"
 },
 "nbformat": 3,
 "nbformat_minor": 0,
 "worksheets": [
  {
   "cells": [
    {
     "cell_type": "code",
     "collapsed": false,
     "input": [
      "import pandas as pd\n",
      "import rpy2.robjects as ro"
     ],
     "language": "python",
     "metadata": {},
     "outputs": [],
     "prompt_number": 1
    },
    {
     "cell_type": "code",
     "collapsed": false,
     "input": [
      "df_addicts = pd.read_csv(\"demo_surv/addicts.csv\")"
     ],
     "language": "python",
     "metadata": {},
     "outputs": [],
     "prompt_number": 2
    },
    {
     "cell_type": "code",
     "collapsed": false,
     "input": [
      "df_addicts.head()"
     ],
     "language": "python",
     "metadata": {},
     "outputs": [
      {
       "html": [
        "<div style=\"max-height:1000px;max-width:1500px;overflow:auto;\">\n",
        "<table border=\"1\" class=\"dataframe\">\n",
        "  <thead>\n",
        "    <tr style=\"text-align: right;\">\n",
        "      <th></th>\n",
        "      <th>Unnamed: 0</th>\n",
        "      <th>id</th>\n",
        "      <th>clinic</th>\n",
        "      <th>status</th>\n",
        "      <th>survtime</th>\n",
        "      <th>prison</th>\n",
        "      <th>mdose</th>\n",
        "      <th>mdosedata</th>\n",
        "    </tr>\n",
        "  </thead>\n",
        "  <tbody>\n",
        "    <tr>\n",
        "      <th>0</th>\n",
        "      <td> 1</td>\n",
        "      <td> 1</td>\n",
        "      <td> 1</td>\n",
        "      <td> 1</td>\n",
        "      <td> 428</td>\n",
        "      <td> 0</td>\n",
        "      <td> 50</td>\n",
        "      <td> 1</td>\n",
        "    </tr>\n",
        "    <tr>\n",
        "      <th>1</th>\n",
        "      <td> 2</td>\n",
        "      <td> 2</td>\n",
        "      <td> 1</td>\n",
        "      <td> 1</td>\n",
        "      <td> 275</td>\n",
        "      <td> 1</td>\n",
        "      <td> 55</td>\n",
        "      <td> 2</td>\n",
        "    </tr>\n",
        "    <tr>\n",
        "      <th>2</th>\n",
        "      <td> 3</td>\n",
        "      <td> 3</td>\n",
        "      <td> 1</td>\n",
        "      <td> 1</td>\n",
        "      <td> 262</td>\n",
        "      <td> 0</td>\n",
        "      <td> 55</td>\n",
        "      <td> 2</td>\n",
        "    </tr>\n",
        "    <tr>\n",
        "      <th>3</th>\n",
        "      <td> 4</td>\n",
        "      <td> 4</td>\n",
        "      <td> 1</td>\n",
        "      <td> 1</td>\n",
        "      <td> 183</td>\n",
        "      <td> 0</td>\n",
        "      <td> 30</td>\n",
        "      <td> 1</td>\n",
        "    </tr>\n",
        "    <tr>\n",
        "      <th>4</th>\n",
        "      <td> 5</td>\n",
        "      <td> 5</td>\n",
        "      <td> 1</td>\n",
        "      <td> 1</td>\n",
        "      <td> 259</td>\n",
        "      <td> 1</td>\n",
        "      <td> 65</td>\n",
        "      <td> 3</td>\n",
        "    </tr>\n",
        "  </tbody>\n",
        "</table>\n",
        "<p>5 rows \u00d7 8 columns</p>\n",
        "</div>"
       ],
       "metadata": {},
       "output_type": "pyout",
       "prompt_number": 3,
       "text": [
        "   Unnamed: 0  id  clinic  status  survtime  prison  mdose  mdosedata\n",
        "0           1   1       1       1       428       0     50          1\n",
        "1           2   2       1       1       275       1     55          2\n",
        "2           3   3       1       1       262       0     55          2\n",
        "3           4   4       1       1       183       0     30          1\n",
        "4           5   5       1       1       259       1     65          3\n",
        "\n",
        "[5 rows x 8 columns]"
       ]
      }
     ],
     "prompt_number": 3
    },
    {
     "cell_type": "code",
     "collapsed": false,
     "input": [
      "%load_ext rpy2.ipython"
     ],
     "language": "python",
     "metadata": {},
     "outputs": [],
     "prompt_number": 4
    },
    {
     "cell_type": "code",
     "collapsed": false,
     "input": [
      "%Rpush df_addicts"
     ],
     "language": "python",
     "metadata": {},
     "outputs": [],
     "prompt_number": 5
    },
    {
     "cell_type": "code",
     "collapsed": false,
     "input": [
      "%%R\n",
      "library(survival)\n",
      "\n",
      "Y <- with(df_addicts, Surv(survtime, status == 1))\n",
      "model_coxph <- coxph(Y ~ strata(clinic) + prison + mdosedata, data=df_addicts)\n",
      "print(summary(model_coxph))"
     ],
     "language": "python",
     "metadata": {},
     "outputs": [
      {
       "metadata": {},
       "output_type": "display_data",
       "text": [
        "Loading required package: splines\n",
        "Call:\n",
        "coxph(formula = Y ~ strata(clinic) + prison + mdosedata, data = df_addicts)\n",
        "\n",
        "  n= 238, number of events= 150 \n",
        "\n",
        "             coef exp(coef) se(coef)      z Pr(>|z|)    \n",
        "prison     0.3690    1.4463   0.1685  2.191   0.0285 *  \n",
        "mdosedata -0.4349    0.6473   0.1031 -4.218 2.46e-05 ***\n",
        "---\n",
        "Signif. codes:  0 \u2018***\u2019 0.001 \u2018**\u2019 0.01 \u2018*\u2019 0.05 \u2018.\u2019 0.1 \u2018 \u2019 1\n",
        "\n",
        "          exp(coef) exp(-coef) lower .95 upper .95\n",
        "prison       1.4463     0.6914    1.0396    2.0121\n",
        "mdosedata    0.6473     1.5449    0.5289    0.7923\n",
        "\n",
        "Concordance= 0.628  (se = 0.033 )\n",
        "Rsquare= 0.087   (max possible= 0.994 )\n",
        "Likelihood ratio test= 21.54  on 2 df,   p=2.103e-05\n",
        "Wald test            = 21.53  on 2 df,   p=2.108e-05\n",
        "Score (logrank) test = 22.11  on 2 df,   p=1.583e-05\n",
        "\n",
        "NULL\n"
       ]
      }
     ],
     "prompt_number": 6
    },
    {
     "cell_type": "code",
     "collapsed": false,
     "input": [],
     "language": "python",
     "metadata": {},
     "outputs": [],
     "prompt_number": 6
    }
   ],
   "metadata": {}
  }
 ]
}