{
 "metadata": {
  "name": "",
  "signature": "sha256:33fa51c59e4f8855bacf70b0fbe882ec59cd5528c6929a9420c3711e61ceeb92"
 },
 "nbformat": 3,
 "nbformat_minor": 0,
 "worksheets": [
  {
   "cells": [
    {
     "cell_type": "code",
     "collapsed": false,
     "input": [
      "import rpy2\n",
      "rpy2.__path__"
     ],
     "language": "python",
     "metadata": {},
     "outputs": [
      {
       "metadata": {},
       "output_type": "pyout",
       "prompt_number": 1,
       "text": [
        "['/Users/liang/.virtualenvs/sci_sys/lib/python3.4/site-packages/rpy2-2.4.0-py3.4-macosx-10.9-x86_64.egg/rpy2']"
       ]
      }
     ],
     "prompt_number": 1
    },
    {
     "cell_type": "code",
     "collapsed": false,
     "input": [
      "from rpy2 import robjects"
     ],
     "language": "python",
     "metadata": {},
     "outputs": [],
     "prompt_number": 2
    },
    {
     "cell_type": "code",
     "collapsed": false,
     "input": [
      "v = robjects.FloatVector([1.1, 2.2, 3.3, 4.4, 5.5, 6.6])"
     ],
     "language": "python",
     "metadata": {},
     "outputs": [],
     "prompt_number": 3
    },
    {
     "cell_type": "code",
     "collapsed": false,
     "input": [
      "m = robjects.r['matrix'](v, nrow = 2)"
     ],
     "language": "python",
     "metadata": {},
     "outputs": [],
     "prompt_number": 4
    },
    {
     "cell_type": "code",
     "collapsed": false,
     "input": [
      "print(m)"
     ],
     "language": "python",
     "metadata": {},
     "outputs": [
      {
       "output_type": "stream",
       "stream": "stdout",
       "text": [
        "     [,1] [,2] [,3]\n",
        "[1,]  1.1  3.3  5.5\n",
        "[2,]  2.2  4.4  6.6\n",
        "\n"
       ]
      }
     ],
     "prompt_number": 5
    },
    {
     "cell_type": "code",
     "collapsed": false,
     "input": [
      "r = robjects.r"
     ],
     "language": "python",
     "metadata": {},
     "outputs": [],
     "prompt_number": 6
    },
    {
     "cell_type": "code",
     "collapsed": false,
     "input": [
      "x = robjects.IntVector(range(10))\n",
      "y = r.rnorm(10)"
     ],
     "language": "python",
     "metadata": {},
     "outputs": [],
     "prompt_number": 7
    },
    {
     "cell_type": "code",
     "collapsed": false,
     "input": [
      "import math, datetime\n",
      "import rpy2.robjects.lib.ggplot2 as ggplot2\n",
      "import rpy2.robjects as ro\n",
      "from rpy2.robjects.packages import importr\n",
      "base = importr('base')\n",
      "mtcars = r('mtcars')"
     ],
     "language": "python",
     "metadata": {},
     "outputs": [],
     "prompt_number": 8
    },
    {
     "cell_type": "code",
     "collapsed": false,
     "input": [
      "grdevices = importr('grDevices')\n",
      "grdevices.png(file=\"test.png\", width=512, height=512)\n",
      "pp = ggplot2.ggplot(mtcars) + \\\n",
      "     ggplot2.aes_string(x='wt', y='mpg', col='factor(cyl)') + \\\n",
      "     ggplot2.geom_point() + \\\n",
      "     ggplot2.geom_smooth(ggplot2.aes_string(group = 'cyl'),\n",
      "                         method = 'lm')\n",
      "pp.plot()\n",
      "grdevices.dev_off()"
     ],
     "language": "python",
     "metadata": {},
     "outputs": [
      {
       "metadata": {},
       "output_type": "pyout",
       "prompt_number": 9,
       "text": [
        "<IntVector - Python:0x10e067808 / R:0x7ffd6afd5bc8>\n",
        "[       1]"
       ]
      }
     ],
     "prompt_number": 9
    },
    {
     "cell_type": "code",
     "collapsed": false,
     "input": [
      "utils = importr('utils')\n",
      "utils.data('mtcars')"
     ],
     "language": "python",
     "metadata": {},
     "outputs": [
      {
       "metadata": {},
       "output_type": "pyout",
       "prompt_number": 10,
       "text": [
        "<StrVector - Python:0x110bf0ac8 / R:0x7ffd6da1b408>\n",
        "['mtcars']"
       ]
      }
     ],
     "prompt_number": 10
    },
    {
     "cell_type": "code",
     "collapsed": false,
     "input": [
      "type(mtcars)"
     ],
     "language": "python",
     "metadata": {},
     "outputs": [
      {
       "metadata": {},
       "output_type": "pyout",
       "prompt_number": 11,
       "text": [
        "rpy2.robjects.vectors.DataFrame"
       ]
      }
     ],
     "prompt_number": 11
    },
    {
     "cell_type": "code",
     "collapsed": false,
     "input": [
      "print(mtcars)"
     ],
     "language": "python",
     "metadata": {},
     "outputs": [
      {
       "output_type": "stream",
       "stream": "stdout",
       "text": [
        "                     mpg cyl  disp  hp drat    wt  qsec vs am gear carb\n",
        "Mazda RX4           21.0   6 160.0 110 3.90 2.620 16.46  0  1    4    4\n",
        "Mazda RX4 Wag       21.0   6 160.0 110 3.90 2.875 17.02  0  1    4    4\n",
        "Datsun 710          22.8   4 108.0  93 3.85 2.320 18.61  1  1    4    1\n",
        "Hornet 4 Drive      21.4   6 258.0 110 3.08 3.215 19.44  1  0    3    1\n",
        "Hornet Sportabout   18.7   8 360.0 175 3.15 3.440 17.02  0  0    3    2\n",
        "Valiant             18.1   6 225.0 105 2.76 3.460 20.22  1  0    3    1\n",
        "Duster 360          14.3   8 360.0 245 3.21 3.570 15.84  0  0    3    4\n",
        "Merc 240D           24.4   4 146.7  62 3.69 3.190 20.00  1  0    4    2\n",
        "Merc 230            22.8   4 140.8  95 3.92 3.150 22.90  1  0    4    2\n",
        "Merc 280            19.2   6 167.6 123 3.92 3.440 18.30  1  0    4    4\n",
        "Merc 280C           17.8   6 167.6 123 3.92 3.440 18.90  1  0    4    4\n",
        "Merc 450SE          16.4   8 275.8 180 3.07 4.070 17.40  0  0    3    3\n",
        "Merc 450SL          17.3   8 275.8 180 3.07 3.730 17.60  0  0    3    3\n",
        "Merc 450SLC         15.2   8 275.8 180 3.07 3.780 18.00  0  0    3    3\n",
        "Cadillac Fleetwood  10.4   8 472.0 205 2.93 5.250 17.98  0  0    3    4\n",
        "Lincoln Continental 10.4   8 460.0 215 3.00 5.424 17.82  0  0    3    4\n",
        "Chrysler Imperial   14.7   8 440.0 230 3.23 5.345 17.42  0  0    3    4\n",
        "Fiat 128            32.4   4  78.7  66 4.08 2.200 19.47  1  1    4    1\n",
        "Honda Civic         30.4   4  75.7  52 4.93 1.615 18.52  1  1    4    2\n",
        "Toyota Corolla      33.9   4  71.1  65 4.22 1.835 19.90  1  1    4    1\n",
        "Toyota Corona       21.5   4 120.1  97 3.70 2.465 20.01  1  0    3    1\n",
        "Dodge Challenger    15.5   8 318.0 150 2.76 3.520 16.87  0  0    3    2\n",
        "AMC Javelin         15.2   8 304.0 150 3.15 3.435 17.30  0  0    3    2\n",
        "Camaro Z28          13.3   8 350.0 245 3.73 3.840 15.41  0  0    3    4\n",
        "Pontiac Firebird    19.2   8 400.0 175 3.08 3.845 17.05  0  0    3    2\n",
        "Fiat X1-9           27.3   4  79.0  66 4.08 1.935 18.90  1  1    4    1\n",
        "Porsche 914-2       26.0   4 120.3  91 4.43 2.140 16.70  0  1    5    2\n",
        "Lotus Europa        30.4   4  95.1 113 3.77 1.513 16.90  1  1    5    2\n",
        "Ford Pantera L      15.8   8 351.0 264 4.22 3.170 14.50  0  1    5    4\n",
        "Ferrari Dino        19.7   6 145.0 175 3.62 2.770 15.50  0  1    5    6\n",
        "Maserati Bora       15.0   8 301.0 335 3.54 3.570 14.60  0  1    5    8\n",
        "Volvo 142E          21.4   4 121.0 109 4.11 2.780 18.60  1  1    4    2\n",
        "\n"
       ]
      }
     ],
     "prompt_number": 12
    },
    {
     "cell_type": "code",
     "collapsed": false,
     "input": [
      "from rpy2.robjects.packages import importr, data\n",
      "import numpy"
     ],
     "language": "python",
     "metadata": {},
     "outputs": [],
     "prompt_number": 13
    },
    {
     "cell_type": "code",
     "collapsed": false,
     "input": [
      "datasets = importr('datasets')\n",
      "data(datasets).fetch('occupationalStatus')['occupationalStatus']"
     ],
     "language": "python",
     "metadata": {},
     "outputs": [
      {
       "metadata": {},
       "output_type": "pyout",
       "prompt_number": 14,
       "text": [
        "<Matrix - Python:0x111540588 / R:0x7ffd6bcd4630>\n",
        "[      50,       16,       12, ...,      177,       71,      106]"
       ]
      }
     ],
     "prompt_number": 14
    },
    {
     "cell_type": "code",
     "collapsed": false,
     "input": [
      "%load_ext rpy2.ipython"
     ],
     "language": "python",
     "metadata": {},
     "outputs": [],
     "prompt_number": 15
    },
    {
     "cell_type": "code",
     "collapsed": false,
     "input": [
      "import numpy as np\n",
      "# import matplotlib.pyplot as plt\n",
      "X = np.array([0,1,2,3,4])\n",
      "Y = np.array([3,5,4,6,7])"
     ],
     "language": "python",
     "metadata": {},
     "outputs": [],
     "prompt_number": 16
    },
    {
     "cell_type": "code",
     "collapsed": false,
     "input": [
      "%Rpush X Y\n",
      "%R lm(Y~X)$coef"
     ],
     "language": "python",
     "metadata": {},
     "outputs": [
      {
       "metadata": {},
       "output_type": "pyout",
       "prompt_number": 17,
       "text": [
        "<FloatVector - Python:0x111f5e0c8 / R:0x7ffd6aee1038>\n",
        "[3.200000, 0.900000]"
       ]
      }
     ],
     "prompt_number": 17
    },
    {
     "cell_type": "code",
     "collapsed": false,
     "input": [
      "Xr = X - X.mean(); Yr = Y - Y.mean()\n",
      "slope = (Xr*Yr).sum() / (Xr**2).sum()\n",
      "intercept = Y.mean() - X.mean() * slope\n",
      "(intercept, slope)"
     ],
     "language": "python",
     "metadata": {},
     "outputs": [
      {
       "metadata": {},
       "output_type": "pyout",
       "prompt_number": 18,
       "text": [
        "(3.2000000000000002, 0.90000000000000002)"
       ]
      }
     ],
     "prompt_number": 18
    },
    {
     "cell_type": "code",
     "collapsed": false,
     "input": [
      "%R resid(lm(Y~X)); coef(lm(X~Y))"
     ],
     "language": "python",
     "metadata": {},
     "outputs": [
      {
       "metadata": {},
       "output_type": "pyout",
       "prompt_number": 19,
       "text": [
        "<FloatVector - Python:0x1115300c8 / R:0x7ffd6d4fbbc8>\n",
        "[-2.500000, 0.900000]"
       ]
      }
     ],
     "prompt_number": 19
    },
    {
     "cell_type": "code",
     "collapsed": false,
     "input": [
      "v1 = %R plot(X,Y); print(summary(lm(Y~X))); vv=mean(X)*mean(Y)\n",
      "print('v1 is:', v1)\n",
      "v2 = %R mean(X)*mean(Y)\n",
      "print('v2 is:', v2)"
     ],
     "language": "python",
     "metadata": {},
     "outputs": [
      {
       "metadata": {},
       "output_type": "display_data",
       "text": [
        "\n",
        "Call:\n",
        "lm(formula = Y ~ X)\n",
        "\n",
        "Residuals:\n",
        "   1    2    3    4    5 \n",
        "-0.2  0.9 -1.0  0.1  0.2 \n",
        "\n",
        "Coefficients:\n",
        "            Estimate Std. Error t value Pr(>|t|)  \n",
        "(Intercept)   3.2000     0.6164   5.191   0.0139 *\n",
        "X             0.9000     0.2517   3.576   0.0374 *\n",
        "---\n",
        "Signif. codes:  0 \u2018***\u2019 0.001 \u2018**\u2019 0.01 \u2018*\u2019 0.05 \u2018.\u2019 0.1 \u2018 \u2019 1\n",
        "\n",
        "Residual standard error: 0.7958 on 3 degrees of freedom\n",
        "Multiple R-squared:   0.81,\tAdjusted R-squared:  0.7467 \n",
        "F-statistic: 12.79 on 1 and 3 DF,  p-value: 0.03739\n",
        "\n"
       ]
      },
      {
       "metadata": {},
       "output_type": "display_data",
       "png": "[encoded data removed]"
      },
      {
       "output_type": "stream",
       "stream": "stdout",
       "text": [
        "v1 is: [1] 10\n",
        "\n",
        "v2 is: [1] 10\n",
        "\n"
       ]
      }
     ],
     "prompt_number": 20
    },
    {
     "cell_type": "code",
     "collapsed": false,
     "input": [
      "mtcars_df = %Rget mtcars"
     ],
     "language": "python",
     "metadata": {},
     "outputs": [],
     "prompt_number": 21
    },
    {
     "cell_type": "code",
     "collapsed": false,
     "input": [
      "type(mtcars_df)"
     ],
     "language": "python",
     "metadata": {},
     "outputs": [
      {
       "metadata": {},
       "output_type": "pyout",
       "prompt_number": 22,
       "text": [
        "pandas.core.frame.DataFrame"
       ]
      }
     ],
     "prompt_number": 22
    },
    {
     "cell_type": "code",
     "collapsed": false,
     "input": [
      "mtcars_df.head(10)"
     ],
     "language": "python",
     "metadata": {},
     "outputs": [
      {
       "html": [
        "<div style=\"max-height:1000px;max-width:1500px;overflow:auto;\">\n",
        "<table border=\"1\" class=\"dataframe\">\n",
        "  <thead>\n",
        "    <tr style=\"text-align: right;\">\n",
        "      <th></th>\n",
        "      <th>mpg</th>\n",
        "      <th>cyl</th>\n",
        "      <th>disp</th>\n",
        "      <th>hp</th>\n",
        "      <th>drat</th>\n",
        "      <th>wt</th>\n",
        "      <th>qsec</th>\n",
        "      <th>vs</th>\n",
        "      <th>am</th>\n",
        "      <th>gear</th>\n",
        "      <th>carb</th>\n",
        "    </tr>\n",
        "  </thead>\n",
        "  <tbody>\n",
        "    <tr>\n",
        "      <th>0</th>\n",
        "      <td> 21.0</td>\n",
        "      <td> 6</td>\n",
        "      <td> 160.0</td>\n",
        "      <td> 110</td>\n",
        "      <td> 3.90</td>\n",
        "      <td> 2.620</td>\n",
        "      <td> 16.46</td>\n",
        "      <td> 0</td>\n",
        "      <td> 1</td>\n",
        "      <td> 4</td>\n",
        "      <td> 4</td>\n",
        "    </tr>\n",
        "    <tr>\n",
        "      <th>1</th>\n",
        "      <td> 21.0</td>\n",
        "      <td> 6</td>\n",
        "      <td> 160.0</td>\n",
        "      <td> 110</td>\n",
        "      <td> 3.90</td>\n",
        "      <td> 2.875</td>\n",
        "      <td> 17.02</td>\n",
        "      <td> 0</td>\n",
        "      <td> 1</td>\n",
        "      <td> 4</td>\n",
        "      <td> 4</td>\n",
        "    </tr>\n",
        "    <tr>\n",
        "      <th>2</th>\n",
        "      <td> 22.8</td>\n",
        "      <td> 4</td>\n",
        "      <td> 108.0</td>\n",
        "      <td>  93</td>\n",
        "      <td> 3.85</td>\n",
        "      <td> 2.320</td>\n",
        "      <td> 18.61</td>\n",
        "      <td> 1</td>\n",
        "      <td> 1</td>\n",
        "      <td> 4</td>\n",
        "      <td> 1</td>\n",
        "    </tr>\n",
        "    <tr>\n",
        "      <th>3</th>\n",
        "      <td> 21.4</td>\n",
        "      <td> 6</td>\n",
        "      <td> 258.0</td>\n",
        "      <td> 110</td>\n",
        "      <td> 3.08</td>\n",
        "      <td> 3.215</td>\n",
        "      <td> 19.44</td>\n",
        "      <td> 1</td>\n",
        "      <td> 0</td>\n",
        "      <td> 3</td>\n",
        "      <td> 1</td>\n",
        "    </tr>\n",
        "    <tr>\n",
        "      <th>4</th>\n",
        "      <td> 18.7</td>\n",
        "      <td> 8</td>\n",
        "      <td> 360.0</td>\n",
        "      <td> 175</td>\n",
        "      <td> 3.15</td>\n",
        "      <td> 3.440</td>\n",
        "      <td> 17.02</td>\n",
        "      <td> 0</td>\n",
        "      <td> 0</td>\n",
        "      <td> 3</td>\n",
        "      <td> 2</td>\n",
        "    </tr>\n",
        "    <tr>\n",
        "      <th>5</th>\n",
        "      <td> 18.1</td>\n",
        "      <td> 6</td>\n",
        "      <td> 225.0</td>\n",
        "      <td> 105</td>\n",
        "      <td> 2.76</td>\n",
        "      <td> 3.460</td>\n",
        "      <td> 20.22</td>\n",
        "      <td> 1</td>\n",
        "      <td> 0</td>\n",
        "      <td> 3</td>\n",
        "      <td> 1</td>\n",
        "    </tr>\n",
        "    <tr>\n",
        "      <th>6</th>\n",
        "      <td> 14.3</td>\n",
        "      <td> 8</td>\n",
        "      <td> 360.0</td>\n",
        "      <td> 245</td>\n",
        "      <td> 3.21</td>\n",
        "      <td> 3.570</td>\n",
        "      <td> 15.84</td>\n",
        "      <td> 0</td>\n",
        "      <td> 0</td>\n",
        "      <td> 3</td>\n",
        "      <td> 4</td>\n",
        "    </tr>\n",
        "    <tr>\n",
        "      <th>7</th>\n",
        "      <td> 24.4</td>\n",
        "      <td> 4</td>\n",
        "      <td> 146.7</td>\n",
        "      <td>  62</td>\n",
        "      <td> 3.69</td>\n",
        "      <td> 3.190</td>\n",
        "      <td> 20.00</td>\n",
        "      <td> 1</td>\n",
        "      <td> 0</td>\n",
        "      <td> 4</td>\n",
        "      <td> 2</td>\n",
        "    </tr>\n",
        "    <tr>\n",
        "      <th>8</th>\n",
        "      <td> 22.8</td>\n",
        "      <td> 4</td>\n",
        "      <td> 140.8</td>\n",
        "      <td>  95</td>\n",
        "      <td> 3.92</td>\n",
        "      <td> 3.150</td>\n",
        "      <td> 22.90</td>\n",
        "      <td> 1</td>\n",
        "      <td> 0</td>\n",
        "      <td> 4</td>\n",
        "      <td> 2</td>\n",
        "    </tr>\n",
        "    <tr>\n",
        "      <th>9</th>\n",
        "      <td> 19.2</td>\n",
        "      <td> 6</td>\n",
        "      <td> 167.6</td>\n",
        "      <td> 123</td>\n",
        "      <td> 3.92</td>\n",
        "      <td> 3.440</td>\n",
        "      <td> 18.30</td>\n",
        "      <td> 1</td>\n",
        "      <td> 0</td>\n",
        "      <td> 4</td>\n",
        "      <td> 4</td>\n",
        "    </tr>\n",
        "  </tbody>\n",
        "</table>\n",
        "<p>10 rows \u00d7 11 columns</p>\n",
        "</div>"
       ],
       "metadata": {},
       "output_type": "pyout",
       "prompt_number": 23,
       "text": [
        "    mpg  cyl   disp   hp  drat     wt   qsec  vs  am  gear  carb\n",
        "0  21.0    6  160.0  110  3.90  2.620  16.46   0   1     4     4\n",
        "1  21.0    6  160.0  110  3.90  2.875  17.02   0   1     4     4\n",
        "2  22.8    4  108.0   93  3.85  2.320  18.61   1   1     4     1\n",
        "3  21.4    6  258.0  110  3.08  3.215  19.44   1   0     3     1\n",
        "4  18.7    8  360.0  175  3.15  3.440  17.02   0   0     3     2\n",
        "5  18.1    6  225.0  105  2.76  3.460  20.22   1   0     3     1\n",
        "6  14.3    8  360.0  245  3.21  3.570  15.84   0   0     3     4\n",
        "7  24.4    4  146.7   62  3.69  3.190  20.00   1   0     4     2\n",
        "8  22.8    4  140.8   95  3.92  3.150  22.90   1   0     4     2\n",
        "9  19.2    6  167.6  123  3.92  3.440  18.30   1   0     4     4\n",
        "\n",
        "[10 rows x 11 columns]"
       ]
      }
     ],
     "prompt_number": 23
    },
    {
     "cell_type": "code",
     "collapsed": false,
     "input": [
      "%%R\n",
      "head(mtcars)"
     ],
     "language": "python",
     "metadata": {},
     "outputs": [
      {
       "metadata": {},
       "output_type": "display_data",
       "text": [
        "                   mpg cyl disp  hp drat    wt  qsec vs am gear carb\n",
        "Mazda RX4         21.0   6  160 110 3.90 2.620 16.46  0  1    4    4\n",
        "Mazda RX4 Wag     21.0   6  160 110 3.90 2.875 17.02  0  1    4    4\n",
        "Datsun 710        22.8   4  108  93 3.85 2.320 18.61  1  1    4    1\n",
        "Hornet 4 Drive    21.4   6  258 110 3.08 3.215 19.44  1  0    3    1\n",
        "Hornet Sportabout 18.7   8  360 175 3.15 3.440 17.02  0  0    3    2\n",
        "Valiant           18.1   6  225 105 2.76 3.460 20.22  1  0    3    1\n"
       ]
      }
     ],
     "prompt_number": 24
    },
    {
     "cell_type": "code",
     "collapsed": false,
     "input": [
      "sv = ro.StrVector('ababbc')"
     ],
     "language": "python",
     "metadata": {},
     "outputs": [],
     "prompt_number": 25
    },
    {
     "cell_type": "code",
     "collapsed": false,
     "input": [
      "print(sv)"
     ],
     "language": "python",
     "metadata": {},
     "outputs": [
      {
       "output_type": "stream",
       "stream": "stdout",
       "text": [
        "[1] \"a\" \"b\" \"a\" \"b\" \"b\" \"c\"\n",
        "\n"
       ]
      }
     ],
     "prompt_number": 26
    },
    {
     "cell_type": "code",
     "collapsed": false,
     "input": [
      "sv.r_repr()"
     ],
     "language": "python",
     "metadata": {},
     "outputs": [
      {
       "metadata": {},
       "output_type": "pyout",
       "prompt_number": 27,
       "text": [
        "'c(\"a\", \"b\", \"a\", \"b\", \"b\", \"c\")'"
       ]
      }
     ],
     "prompt_number": 27
    },
    {
     "cell_type": "code",
     "collapsed": false,
     "input": [
      "fac = ro.FactorVector(sv)"
     ],
     "language": "python",
     "metadata": {},
     "outputs": [],
     "prompt_number": 28
    },
    {
     "cell_type": "code",
     "collapsed": false,
     "input": [
      "print(fac.r_repr())\n",
      "print(fac)"
     ],
     "language": "python",
     "metadata": {},
     "outputs": [
      {
       "output_type": "stream",
       "stream": "stdout",
       "text": [
        "structure(c(1L, 2L, 1L, 2L, 2L, 3L), .Label = c(\"a\", \"b\", \"c\"\n",
        "), class = \"factor\")\n",
        "[1] a b a b b c\n",
        "Levels: a b c\n",
        "\n"
       ]
      }
     ],
     "prompt_number": 29
    },
    {
     "cell_type": "code",
     "collapsed": false,
     "input": [
      "x = robjects.r['seq'](1, 5)\n",
      "# robjects.r.seq(1,5)\n",
      "x.names = robjects.StrVector('abcde')"
     ],
     "language": "python",
     "metadata": {},
     "outputs": [],
     "prompt_number": 30
    },
    {
     "cell_type": "code",
     "collapsed": false,
     "input": [
      "print(x)"
     ],
     "language": "python",
     "metadata": {},
     "outputs": [
      {
       "output_type": "stream",
       "stream": "stdout",
       "text": [
        "a b c d e \n",
        "1 2 3 4 5 \n",
        "\n"
       ]
      }
     ],
     "prompt_number": 31
    },
    {
     "cell_type": "code",
     "collapsed": false,
     "input": [
      "x[0]"
     ],
     "language": "python",
     "metadata": {},
     "outputs": [
      {
       "metadata": {},
       "output_type": "pyout",
       "prompt_number": 32,
       "text": [
        "1"
       ]
      }
     ],
     "prompt_number": 32
    },
    {
     "cell_type": "code",
     "collapsed": false,
     "input": [
      "i = robjects.IntVector((1, 3))\n",
      "print(x.rx(i))\n",
      "\n",
      "b = robjects.BoolVector((False, True, False, True, True))\n",
      "print(x.rx(b))"
     ],
     "language": "python",
     "metadata": {},
     "outputs": [
      {
       "output_type": "stream",
       "stream": "stdout",
       "text": [
        "a c \n",
        "1 3 \n",
        "\n",
        "b d e \n",
        "2 4 5 \n",
        "\n"
       ]
      }
     ],
     "prompt_number": 33
    },
    {
     "cell_type": "code",
     "collapsed": false,
     "input": [
      "i = - robjects.IntVector((1, 3)).ro\n",
      "print(x.rx(i))"
     ],
     "language": "python",
     "metadata": {},
     "outputs": [
      {
       "output_type": "stream",
       "stream": "stdout",
       "text": [
        "b d e \n",
        "2 4 5 \n",
        "\n"
       ]
      }
     ],
     "prompt_number": 34
    },
    {
     "cell_type": "code",
     "collapsed": false,
     "input": [
      "%%time\n",
      "big_list = [i for i in range(10**7)]"
     ],
     "language": "python",
     "metadata": {},
     "outputs": [
      {
       "output_type": "stream",
       "stream": "stdout",
       "text": [
        "CPU times: user 695 ms, sys: 273 ms, total: 968 ms\n",
        "Wall time: 971 ms\n"
       ]
      }
     ],
     "prompt_number": 35
    },
    {
     "cell_type": "code",
     "collapsed": false,
     "input": [
      "%%time\n",
      "big_int_vec = robjects.IntVector(big_list)"
     ],
     "language": "python",
     "metadata": {},
     "outputs": [
      {
       "output_type": "stream",
       "stream": "stdout",
       "text": [
        "CPU times: user 699 ms, sys: 52.6 ms, total: 751 ms\n",
        "Wall time: 748 ms\n"
       ]
      }
     ],
     "prompt_number": 36
    },
    {
     "cell_type": "code",
     "collapsed": false,
     "input": [
      "%%R\n",
      "gp = ggplot(mtcars)\n",
      "pp = gp + aes_string(x='wt', y='mpg') + geom_point()\n",
      "show(pp)"
     ],
     "language": "python",
     "metadata": {},
     "outputs": [
      {
       "metadata": {},
       "output_type": "display_data",
       "text": [
        "NULL\n"
       ]
      },
      {
       "metadata": {},
       "output_type": "display_data",
       "png": "[encoded data removed]"
      }
     ],
     "prompt_number": 37
    },
    {
     "cell_type": "code",
     "collapsed": false,
     "input": [
      "%Rpush mtcars_df"
     ],
     "language": "python",
     "metadata": {},
     "outputs": [],
     "prompt_number": 38
    },
    {
     "cell_type": "code",
     "collapsed": false,
     "input": [
      "%%R\n",
      "print(class(mtcars_df))\n",
      "head(mtcars_df)"
     ],
     "language": "python",
     "metadata": {},
     "outputs": [
      {
       "metadata": {},
       "output_type": "display_data",
       "text": [
        "[1] \"data.frame\"\n",
        "   mpg cyl disp  hp drat    wt  qsec vs am gear carb\n",
        "1 21.0   6  160 110 3.90 2.620 16.46  0  1    4    4\n",
        "2 21.0   6  160 110 3.90 2.875 17.02  0  1    4    4\n",
        "3 22.8   4  108  93 3.85 2.320 18.61  1  1    4    1\n",
        "4 21.4   6  258 110 3.08 3.215 19.44  1  0    3    1\n",
        "5 18.7   8  360 175 3.15 3.440 17.02  0  0    3    2\n",
        "6 18.1   6  225 105 2.76 3.460 20.22  1  0    3    1\n"
       ]
      }
     ],
     "prompt_number": 44
    },
    {
     "cell_type": "code",
     "collapsed": false,
     "input": [],
     "language": "python",
     "metadata": {},
     "outputs": []
    }
   ],
   "metadata": {}
  }
 ]
}